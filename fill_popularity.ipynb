{
 "cells": [
  {
   "cell_type": "code",
   "execution_count": 3,
   "metadata": {},
   "outputs": [
    {
     "ename": "ModuleNotFoundError",
     "evalue": "No module named 'popularity_cal'",
     "output_type": "error",
     "traceback": [
      "\u001b[0;31m---------------------------------------------------------------------------\u001b[0m",
      "\u001b[0;31mModuleNotFoundError\u001b[0m                       Traceback (most recent call last)",
      "\u001b[0;32m<ipython-input-3-659185751649>\u001b[0m in \u001b[0;36m<module>\u001b[0;34m()\u001b[0m\n\u001b[1;32m      2\u001b[0m \u001b[0;32mimport\u001b[0m \u001b[0mclick\u001b[0m\u001b[0;34m\u001b[0m\u001b[0;34m\u001b[0m\u001b[0m\n\u001b[1;32m      3\u001b[0m \u001b[0;32mimport\u001b[0m \u001b[0mpandas\u001b[0m \u001b[0;32mas\u001b[0m \u001b[0mpd\u001b[0m\u001b[0;34m\u001b[0m\u001b[0;34m\u001b[0m\u001b[0m\n\u001b[0;32m----> 4\u001b[0;31m \u001b[0;32mfrom\u001b[0m \u001b[0mpopularity_cal\u001b[0m \u001b[0;32mimport\u001b[0m \u001b[0mfunctions\u001b[0m \u001b[0;32mas\u001b[0m \u001b[0mf\u001b[0m\u001b[0;34m\u001b[0m\u001b[0;34m\u001b[0m\u001b[0m\n\u001b[0m",
      "\u001b[0;31mModuleNotFoundError\u001b[0m: No module named 'popularity_cal'"
     ]
    }
   ],
   "source": [
    "from pathlib import Path\n",
    "import click\n",
    "import pandas as pd\n",
    "from popularity_cal import functions as f"
   ]
  },
  {
   "cell_type": "code",
   "execution_count": null,
   "metadata": {},
   "outputs": [],
   "source": [
    "current_directory = Path(__file__).absolute().parent\n",
    "default_data_directory = current_directory.joinpath('..', '..', 'data')\n",
    "\n",
    "\n",
    "@click.command()\n",
    "@click.option('--data-path', default=None, help='Directory for the CSV files')\n",
    "def main(data_path):\n",
    "\n",
    "    # calculate path to files\n",
    "    data_directory = Path(data_path) if data_path else default_data_directory\n",
    "    train_csv = data_directory.joinpath('train.csv')\n",
    "    test_csv = data_directory.joinpath('test.csv')\n",
    "    subm_csv = data_directory.joinpath('submission_popular.csv')\n",
    "\n",
    "    print(f\"Reading {train_csv} ...\")\n",
    "    df_train = pd.read_csv(train_csv)\n",
    "    print(f\"Reading {test_csv} ...\")\n",
    "    df_test = pd.read_csv(test_csv)\n",
    "\n",
    "    print(\"Get popular items...\")\n",
    "    df_popular = f.get_popularity(df_train)\n",
    "\n",
    "    print(\"Identify target rows...\")\n",
    "    df_target = f.get_submission_target(df_test)\n",
    "\n",
    "    print(\"Get recommendations...\")\n",
    "    df_expl = f.explode(df_target, \"impressions\")\n",
    "    df_out = f.calc_recommendation(df_expl, df_popular)\n",
    "\n",
    "    print(f\"Writing {subm_csv}...\")\n",
    "    df_out.to_csv(subm_csv, index=False)\n",
    "\n",
    "    print(\"Finished calculating recommendations.\")"
   ]
  }
 ],
 "metadata": {
  "kernelspec": {
   "display_name": "Python 3",
   "language": "python",
   "name": "python3"
  },
  "language_info": {
   "codemirror_mode": {
    "name": "ipython",
    "version": 3
   },
   "file_extension": ".py",
   "mimetype": "text/x-python",
   "name": "python",
   "nbconvert_exporter": "python",
   "pygments_lexer": "ipython3",
   "version": "3.7.2"
  }
 },
 "nbformat": 4,
 "nbformat_minor": 2
}
